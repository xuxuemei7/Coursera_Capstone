{
    "cells": [
        {
            "cell_type": "markdown",
            "metadata": {
                "collapsed": true
            },
            "source": "# Coursera Capstone Project - Part 1 (Week 4) "
        },
        {
            "cell_type": "markdown",
            "metadata": {},
            "source": "##### (By Xuemei Xu)"
        },
        {
            "cell_type": "markdown",
            "metadata": {},
            "source": "## 1. Introduction "
        },
        {
            "cell_type": "markdown",
            "metadata": {},
            "source": "### 1.1 Background"
        },
        {
            "cell_type": "markdown",
            "metadata": {},
            "source": "Culture represents the uniqueness of a nation, people or social group. And, food is one of the elements that reflects the background, tradition and lifestyle of a specific culture. "
        },
        {
            "cell_type": "markdown",
            "metadata": {},
            "source": "New York City is the most diverse and one of the most popular tourism cities in the US. In New York City, as residents, it does not matter whatever people\u2019s ethnicity is, they do not have issues of finding their taste of cuisine; as tourists, it does not matter which country people come from, they always can find their countries' food. "
        },
        {
            "cell_type": "markdown",
            "metadata": {},
            "source": "### 1.2 Business Problem"
        },
        {
            "cell_type": "markdown",
            "metadata": {},
            "source": "Although there are various kinds of foods in New York City, where can people find out their favorite cuisine? Which neighbourhood should they go to? In New York City, there are different neighbourhoods that are famous for its specific cuisine. For example, as we all know, Chinatown must be famous for Chinese food, and Little Italy should be known for its Italian food."
        },
        {
            "cell_type": "markdown",
            "metadata": {},
            "source": "This project will analyze restaurants\u2019 cuisine in neighbourhoods of 5 boroughs and help people in New York City to find out go-to neighbourhoods whenever they are looking for a specific cuisine. "
        },
        {
            "cell_type": "markdown",
            "metadata": {},
            "source": "### 1.3 Stakeholders "
        },
        {
            "cell_type": "markdown",
            "metadata": {},
            "source": "Since the project will analyze the connections between cuisine and neighbourhoods, the target stakeholders can be current residents of New York City, tourists who are planning to come to or currently in New York City, any individual wants to open a restaurant, and organizations that are aiming to conduct any market research about cuisines and restaurants. "
        },
        {
            "cell_type": "markdown",
            "metadata": {},
            "source": "From this project, stakeholders can have an idea of which neighbourhoods are known for what kind of cuisine in order to save their time of researching, and have an overall view of the distribution of various cuisines and cultures in New York City. "
        },
        {
            "cell_type": "markdown",
            "metadata": {},
            "source": "## 2. Data "
        },
        {
            "cell_type": "markdown",
            "metadata": {},
            "source": "### 2.1 Data Description/Explanation "
        },
        {
            "cell_type": "markdown",
            "metadata": {},
            "source": "Two datasets will be used in this project. "
        },
        {
            "cell_type": "markdown",
            "metadata": {},
            "source": "One is the dataset of New York City boroughs and neighborhoods. This dataset will help to provide information of all neighborhoods and each neighborhood belongs to which borough. From this information, we can know the places we are going to analyze. It\u2019s the basic information the project needs. **For example**, below is a part of New York City neighborhoods chart. (Information is from Wikipedia website)."
        },
        {
            "cell_type": "markdown",
            "metadata": {},
            "source": "| Community Board  |     Neighborhood      | \n| ---------------- |:---------------------:|\n| Bronx CB1        | Melrose, Mott Haven   | \n| Bronx CB2        | Hunts Point, Longwood |   \n| ...              | ...                   |   "
        },
        {
            "cell_type": "markdown",
            "metadata": {},
            "source": "The other one is the dataset of New York City neighborhoods location and restaurants. This dataset is the main part of this project. By getting the location data, we can explore restaurants in neighborhoods based on location data by using FourSquare API, a location provider. **For example**, we can get the location data (latitude and longitude) of Melrose in the Bronx, and explore the restaurants in Melrose. Based on the result, we can analyze what kinds of cuisines have the top frequency in this neighborhood.  "
        },
        {
            "cell_type": "markdown",
            "metadata": {},
            "source": "### 2.2 Data Sources"
        },
        {
            "cell_type": "markdown",
            "metadata": {},
            "source": "New York City neighborhoods dataset will be retrieved from the Wikipedia website: https://en.wikipedia.org/wiki/Neighborhoods_in_New_York_City "
        },
        {
            "cell_type": "markdown",
            "metadata": {},
            "source": "Location and restaurants data will be called from FourSquare API: https://foursquare.com/developers/apps"
        },
        {
            "cell_type": "markdown",
            "metadata": {},
            "source": "## Part 1 Finished - Thanks for the time!"
        }
    ],
    "metadata": {
        "kernelspec": {
            "display_name": "Python 3.6",
            "language": "python",
            "name": "python3"
        },
        "language_info": {
            "codemirror_mode": {
                "name": "ipython",
                "version": 3
            },
            "file_extension": ".py",
            "mimetype": "text/x-python",
            "name": "python",
            "nbconvert_exporter": "python",
            "pygments_lexer": "ipython3",
            "version": "3.6.9"
        }
    },
    "nbformat": 4,
    "nbformat_minor": 1
}